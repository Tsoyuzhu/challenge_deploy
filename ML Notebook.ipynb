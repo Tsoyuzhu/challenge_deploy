{
 "cells": [
  {
   "cell_type": "code",
   "execution_count": 1,
   "metadata": {},
   "outputs": [
    {
     "name": "stderr",
     "output_type": "stream",
     "text": [
      "Using TensorFlow backend.\n"
     ]
    }
   ],
   "source": [
    "import pandas\n",
    "import string\n",
    "import numpy as np\n",
    "import sklearn\n",
    "import matplotlib.pyplot as plt\n",
    "import keras\n"
   ]
  },
  {
   "cell_type": "code",
   "execution_count": 2,
   "metadata": {},
   "outputs": [],
   "source": [
    "df = pandas.read_csv('./data/name_gender_data.csv',header=None, usecols=[0,1],names=[\"Name\",\"Gender\"])\n",
    "\n",
    "# Process the dataset.\n",
    "df[\"Labels\"] = df.Gender\n",
    "\n",
    "# Convert the M and F into labels. \n",
    "df.Labels.replace(to_replace='M',value=0,inplace=True)     \n",
    "df.Labels.replace(to_replace='F',value=1,inplace=True)"
   ]
  },
  {
   "cell_type": "code",
   "execution_count": 3,
   "metadata": {},
   "outputs": [],
   "source": [
    "# Convert the names into vectors. One hot is a terrible choice here as the model would be costly to retrain and there are\n",
    "# no repetitions within our dataset. We will create a vector with the element at each index \n",
    "# corresponding to the position of that letter within the alphabet (E.g. a -> 1, b- > 2, c -> 3). Each vector must be the \n",
    "# same length, so we assume that names are no greater than 50 characters and pad the remaining spaces with zeros.\n",
    "\n",
    "def string_to_vec(name):\n",
    "    MAX_NAME_LENGTH = 18\n",
    "    dictionary = {key: value for (value, key) in enumerate(string.ascii_lowercase,1)}\n",
    "    vector = []\n",
    "\n",
    "    for (index,letter) in enumerate(name):\n",
    "        vector.append(dictionary[letter.lower()])\n",
    "\n",
    "    return np.array(vector)"
   ]
  },
  {
   "cell_type": "code",
   "execution_count": 4,
   "metadata": {},
   "outputs": [],
   "source": [
    "# Convert the names into vectors\n",
    "for i in range(0,len(df.Name)):\n",
    "    df.at[i,\"Name\"] = string_to_vec(df.at[i,\"Name\"])\n"
   ]
  },
  {
   "cell_type": "code",
   "execution_count": 5,
   "metadata": {},
   "outputs": [],
   "source": [
    "# Randomly split the dataset into a training set and a testing set 80:20\n",
    "\n",
    "train = df.sample(frac=0.8,random_state=np.random.RandomState())\n",
    "test = df.drop(train.index)\n",
    "\n",
    "train = train.reset_index(drop=True)\n",
    "test = test.reset_index(drop=True)"
   ]
  },
  {
   "cell_type": "code",
   "execution_count": 6,
   "metadata": {},
   "outputs": [
    {
     "name": "stdout",
     "output_type": "stream",
     "text": [
      "Training entries: 76020, labels: 76020\n"
     ]
    }
   ],
   "source": [
    "# Separate the data from the labels\n",
    "train_data = train.Name.values\n",
    "train_labels = train.Labels.values\n",
    "\n",
    "test_data = test.Name.values\n",
    "test_labels = test.Labels.values\n",
    "\n",
    "print(\"Training entries: {}, labels: {}\".format(len(train_data), len(train_labels)))"
   ]
  },
  {
   "cell_type": "code",
   "execution_count": 7,
   "metadata": {},
   "outputs": [],
   "source": [
    "\n",
    "train_data = keras.preprocessing.sequence.pad_sequences(train_data,\n",
    "                                                        value=0,\n",
    "                                                        padding='post',\n",
    "                                                        maxlen=20)\n",
    "\n",
    "test_data = keras.preprocessing.sequence.pad_sequences(test_data,\n",
    "                                                       value=0,\n",
    "                                                       padding='post',\n",
    "                                                       maxlen=20)\n"
   ]
  },
  {
   "cell_type": "code",
   "execution_count": 8,
   "metadata": {},
   "outputs": [
    {
     "name": "stdout",
     "output_type": "stream",
     "text": [
      "_________________________________________________________________\n",
      "Layer (type)                 Output Shape              Param #   \n",
      "=================================================================\n",
      "dense_1 (Dense)              (None, 200)               4200      \n",
      "_________________________________________________________________\n",
      "dense_2 (Dense)              (None, 1000)              201000    \n",
      "_________________________________________________________________\n",
      "dense_3 (Dense)              (None, 1)                 1001      \n",
      "=================================================================\n",
      "Total params: 206,201\n",
      "Trainable params: 206,201\n",
      "Non-trainable params: 0\n",
      "_________________________________________________________________\n"
     ]
    }
   ],
   "source": [
    "model = keras.Sequential()\n",
    "model.add(keras.layers.Dense(200, input_shape=(20,),activation=\"relu\"))\n",
    "model.add(keras.layers.Dense(1000, activation=\"relu\"))\n",
    "model.add(keras.layers.Dense(1, activation=\"sigmoid\"))\n",
    "\n",
    "model.summary()\n",
    "model.compile(optimizer='adam',\n",
    "              loss='binary_crossentropy',\n",
    "              metrics=['accuracy'])"
   ]
  },
  {
   "cell_type": "code",
   "execution_count": 9,
   "metadata": {},
   "outputs": [
    {
     "name": "stdout",
     "output_type": "stream",
     "text": [
      "Train on 76020 samples, validate on 19005 samples\n",
      "Epoch 1/20\n",
      "76020/76020 [==============================] - 1s 20us/step - loss: 0.9495 - acc: 0.5216 - val_loss: 0.6928 - val_acc: 0.6336\n",
      "Epoch 2/20\n",
      "76020/76020 [==============================] - 1s 17us/step - loss: 0.6779 - acc: 0.6197 - val_loss: 0.6551 - val_acc: 0.6409\n",
      "Epoch 3/20\n",
      "76020/76020 [==============================] - 1s 17us/step - loss: 0.6439 - acc: 0.6463 - val_loss: 0.6438 - val_acc: 0.6434\n",
      "Epoch 4/20\n",
      "76020/76020 [==============================] - 1s 17us/step - loss: 0.6335 - acc: 0.6523 - val_loss: 0.6356 - val_acc: 0.6498\n",
      "Epoch 5/20\n",
      "76020/76020 [==============================] - 1s 17us/step - loss: 0.6253 - acc: 0.6590 - val_loss: 0.6320 - val_acc: 0.6501\n",
      "Epoch 6/20\n",
      "76020/76020 [==============================] - 1s 17us/step - loss: 0.6169 - acc: 0.6677 - val_loss: 0.6209 - val_acc: 0.6632\n",
      "Epoch 7/20\n",
      "76020/76020 [==============================] - 1s 17us/step - loss: 0.6075 - acc: 0.6764 - val_loss: 0.6108 - val_acc: 0.6719\n",
      "Epoch 8/20\n",
      "76020/76020 [==============================] - 1s 17us/step - loss: 0.5975 - acc: 0.6861 - val_loss: 0.6073 - val_acc: 0.6739\n",
      "Epoch 9/20\n",
      "76020/76020 [==============================] - 1s 17us/step - loss: 0.5897 - acc: 0.6951 - val_loss: 0.5954 - val_acc: 0.6842\n",
      "Epoch 10/20\n",
      "76020/76020 [==============================] - ETA: 0s - loss: 0.5797 - acc: 0.705 - 1s 17us/step - loss: 0.5798 - acc: 0.7052 - val_loss: 0.5833 - val_acc: 0.7013\n",
      "Epoch 11/20\n",
      "76020/76020 [==============================] - 1s 17us/step - loss: 0.5696 - acc: 0.7155 - val_loss: 0.5765 - val_acc: 0.7168\n",
      "Epoch 12/20\n",
      "76020/76020 [==============================] - 1s 17us/step - loss: 0.5613 - acc: 0.7227 - val_loss: 0.5697 - val_acc: 0.7224\n",
      "Epoch 13/20\n",
      "76020/76020 [==============================] - 1s 17us/step - loss: 0.5535 - acc: 0.7288 - val_loss: 0.5629 - val_acc: 0.7269\n",
      "Epoch 14/20\n",
      "76020/76020 [==============================] - 1s 17us/step - loss: 0.5453 - acc: 0.7367 - val_loss: 0.5534 - val_acc: 0.7360\n",
      "Epoch 15/20\n",
      "76020/76020 [==============================] - 1s 17us/step - loss: 0.5383 - acc: 0.7422 - val_loss: 0.5462 - val_acc: 0.7393\n",
      "Epoch 16/20\n",
      "76020/76020 [==============================] - 1s 17us/step - loss: 0.5322 - acc: 0.7463 - val_loss: 0.5389 - val_acc: 0.7359\n",
      "Epoch 17/20\n",
      "76020/76020 [==============================] - 1s 17us/step - loss: 0.5279 - acc: 0.7472 - val_loss: 0.5421 - val_acc: 0.7308\n",
      "Epoch 18/20\n",
      "76020/76020 [==============================] - 1s 17us/step - loss: 0.5212 - acc: 0.7489 - val_loss: 0.5421 - val_acc: 0.7273\n",
      "Epoch 19/20\n",
      "76020/76020 [==============================] - 1s 17us/step - loss: 0.5185 - acc: 0.7513 - val_loss: 0.5451 - val_acc: 0.7190\n",
      "Epoch 20/20\n",
      "76020/76020 [==============================] - 1s 17us/step - loss: 0.5199 - acc: 0.7485 - val_loss: 0.5276 - val_acc: 0.7425\n"
     ]
    }
   ],
   "source": [
    "history = model.fit(train_data,\n",
    "                    train_labels,\n",
    "                    epochs=20,\n",
    "                    batch_size=5000,\n",
    "                    validation_data=(test_data, test_labels),\n",
    "                    verbose=1)"
   ]
  },
  {
   "cell_type": "code",
   "execution_count": 709,
   "metadata": {},
   "outputs": [],
   "source": [
    "model.save(\"./gender_from_name_classifier.h5\")"
   ]
  },
  {
   "cell_type": "code",
   "execution_count": 10,
   "metadata": {},
   "outputs": [
    {
     "data": {
      "text/plain": [
       "array([23,  9, 12, 12,  9,  1, 13,  0,  0,  0,  0,  0,  0,  0,  0,  0,  0,\n",
       "        0,  0,  0])"
      ]
     },
     "execution_count": 10,
     "metadata": {},
     "output_type": "execute_result"
    }
   ],
   "source": [
    "input = 'william'\n",
    "vectored = string_to_vec(input)\n",
    "vectored.resize((20,))\n",
    "vectored"
   ]
  },
  {
   "cell_type": "code",
   "execution_count": 11,
   "metadata": {},
   "outputs": [
    {
     "name": "stdout",
     "output_type": "stream",
     "text": [
      "0\n"
     ]
    }
   ],
   "source": [
    "\n",
    "prediction = model.predict_classes(np.array([vectored,]))\n",
    "print(prediction[0][0])\n"
   ]
  },
  {
   "cell_type": "code",
   "execution_count": 41,
   "metadata": {},
   "outputs": [
    {
     "data": {
      "text/plain": [
       "'heellsdfdsssssssssss'"
      ]
     },
     "execution_count": 41,
     "metadata": {},
     "output_type": "execute_result"
    }
   ],
   "source": []
  },
  {
   "cell_type": "code",
   "execution_count": null,
   "metadata": {},
   "outputs": [],
   "source": []
  },
  {
   "cell_type": "code",
   "execution_count": null,
   "metadata": {},
   "outputs": [],
   "source": []
  }
 ],
 "metadata": {
  "kernelspec": {
   "display_name": "Python 3",
   "language": "python",
   "name": "python3"
  },
  "language_info": {
   "codemirror_mode": {
    "name": "ipython",
    "version": 3
   },
   "file_extension": ".py",
   "mimetype": "text/x-python",
   "name": "python",
   "nbconvert_exporter": "python",
   "pygments_lexer": "ipython3",
   "version": "3.6.8"
  }
 },
 "nbformat": 4,
 "nbformat_minor": 2
}
